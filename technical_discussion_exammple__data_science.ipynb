{
  "nbformat": 4,
  "nbformat_minor": 0,
  "metadata": {
    "colab": {
      "provenance": [],
      "authorship_tag": "ABX9TyPFjmIXW/z5MfoJfZRWsa/8",
      "include_colab_link": true
    },
    "kernelspec": {
      "name": "python3",
      "display_name": "Python 3"
    },
    "language_info": {
      "name": "python"
    }
  },
  "cells": [
    {
      "cell_type": "markdown",
      "metadata": {
        "id": "view-in-github",
        "colab_type": "text"
      },
      "source": [
        "<a href=\"https://colab.research.google.com/github/ClaudeIshimwe/technical-discussion/blob/main/technical_discussion_exammple__data_science.ipynb\" target=\"_parent\"><img src=\"https://colab.research.google.com/assets/colab-badge.svg\" alt=\"Open In Colab\"/></a>"
      ]
    },
    {
      "cell_type": "code",
      "source": [],
      "metadata": {
        "id": "oVVvbYdUpM9q"
      },
      "execution_count": null,
      "outputs": []
    },
    {
      "cell_type": "code",
      "execution_count": 14,
      "metadata": {
        "id": "xxnTMmvcbKPq"
      },
      "outputs": [],
      "source": [
        "## Effective Technical discussions  Data Science Project Documentation example\n"
      ]
    },
    {
      "cell_type": "code",
      "source": [
        "## Ingesting"
      ],
      "metadata": {
        "id": "Im50qzvOruPZ"
      },
      "execution_count": null,
      "outputs": []
    },
    {
      "cell_type": "code",
      "source": [
        "def hello():\n",
        "  return \"hi\"\n",
        "  hello()"
      ],
      "metadata": {
        "id": "DznHBAXIbWHF"
      },
      "execution_count": 5,
      "outputs": []
    },
    {
      "cell_type": "code",
      "source": [
        "hello()\n"
      ],
      "metadata": {
        "colab": {
          "base_uri": "https://localhost:8080/",
          "height": 35
        },
        "id": "abdI1n9MpZbY",
        "outputId": "bd1b4eb4-3166-4bd7-cbad-90b63459865c"
      },
      "execution_count": 6,
      "outputs": [
        {
          "output_type": "execute_result",
          "data": {
            "text/plain": [
              "'hi'"
            ],
            "application/vnd.google.colaboratory.intrinsic+json": {
              "type": "string"
            }
          },
          "metadata": {},
          "execution_count": 6
        }
      ]
    },
    {
      "cell_type": "code",
      "source": [
        "## Exploratory Data Analyis (EDA)\n",
        "\n"
      ],
      "metadata": {
        "id": "yXetgTShphDS"
      },
      "execution_count": 16,
      "outputs": []
    },
    {
      "cell_type": "code",
      "source": [
        "## Modelling"
      ],
      "metadata": {
        "id": "Yru3TbtUq_Gl"
      },
      "execution_count": 18,
      "outputs": []
    },
    {
      "cell_type": "code",
      "source": [
        "## Conclusion"
      ],
      "metadata": {
        "id": "w6ARMKhlrIsP"
      },
      "execution_count": 19,
      "outputs": []
    },
    {
      "cell_type": "code",
      "source": [],
      "metadata": {
        "id": "D8VstXnEvhL1"
      },
      "execution_count": null,
      "outputs": []
    }
  ]
}